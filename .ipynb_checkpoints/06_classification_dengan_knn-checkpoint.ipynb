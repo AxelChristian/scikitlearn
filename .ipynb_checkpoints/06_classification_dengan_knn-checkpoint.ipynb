{
 "cells": [
  {
   "cell_type": "markdown",
   "metadata": {
    "slideshow": {
     "slide_type": "slide"
    }
   },
   "source": [
    "# 06 Classification dengan KNN (K Nearest Neighbours)\n",
    "\n",
    "- KNN adalah model machine learning yang dapat digunakan untuk melakukan prediksi berdasarkan kedekatan karakteristik dengan sejumlah tetangga terdekat.\n",
    "- Prediksi yang dilakukan dapat diterapkan baik pada classification maupun regression tasks.\n",
    "\n",
    "Referensi: [https://en.wikipedia.org/wiki/K-nearest_neighbors_algorithm](https://en.wikipedia.org/wiki/K-nearest_neighbors_algorithm)"
   ]
  },
  {
   "cell_type": "markdown",
   "metadata": {
    "slideshow": {
     "slide_type": "slide"
    }
   },
   "source": [
    "## Sample Dataset"
   ]
  },
  {
   "cell_type": "code",
   "execution_count": null,
   "metadata": {
    "slideshow": {
     "slide_type": "-"
    }
   },
   "outputs": [],
   "source": [
    "import pandas as pd\n",
    "\n",
    "sensus = {\n",
    "    'tinggi': [158, 170, 183, 191, 155, 163, 180, 158, 178],\n",
    "    'berat': [64, 86, 84, 80, 49, 59, 67, 54, 67],\n",
    "    'jk': [\n",
    "        'pria', 'pria', 'pria', 'pria', 'wanita', 'wanita', 'wanita', 'wanita',\n",
    "        'wanita'\n",
    "    ]\n",
    "}\n",
    "\n",
    "sensus_df = pd.DataFrame(sensus)\n",
    "sensus_df"
   ]
  },
  {
   "cell_type": "markdown",
   "metadata": {
    "slideshow": {
     "slide_type": "slide"
    }
   },
   "source": [
    "## Visualisasi Data"
   ]
  },
  {
   "cell_type": "code",
   "execution_count": null,
   "metadata": {},
   "outputs": [],
   "source": [
    "import matplotlib.pyplot as plt\n",
    "\n",
    "fig, ax = plt.subplots()\n",
    "for jk, d in sensus_df.groupby('jk'):\n",
    "    ax.scatter(d['tinggi'], d['berat'], label=jk)\n",
    "\n",
    "plt.legend(loc='upper left')\n",
    "plt.title('Sebaran Data Tinggi Badan, Berat Badan, dan Jenis Kelamin')\n",
    "plt.xlabel('Tinggi Badan (cm)')\n",
    "plt.ylabel('Berat Badan (kg)')\n",
    "plt.grid(True)\n",
    "plt.show()"
   ]
  },
  {
   "cell_type": "markdown",
   "metadata": {
    "slideshow": {
     "slide_type": "slide"
    }
   },
   "source": [
    "## Classification dengan KNN"
   ]
  },
  {
   "cell_type": "markdown",
   "metadata": {
    "slideshow": {
     "slide_type": "subslide"
    }
   },
   "source": [
    "### Preprocessing Dataset"
   ]
  },
  {
   "cell_type": "code",
   "execution_count": null,
   "metadata": {},
   "outputs": [],
   "source": [
    "import numpy as np\n",
    "\n",
    "X_train = np.array(sensus_df[['tinggi', 'berat']])\n",
    "y_train = np.array(sensus_df['jk'])\n",
    "\n",
    "print(f'X_train:\\n{X_train}\\n')\n",
    "print(f'y_train: {y_train}')"
   ]
  },
  {
   "cell_type": "code",
   "execution_count": null,
   "metadata": {},
   "outputs": [],
   "source": [
    "from sklearn.preprocessing import LabelBinarizer\n",
    "\n",
    "lb = LabelBinarizer()\n",
    "y_train = lb.fit_transform(y_train)\n",
    "print(f'y_train:\\n{y_train}')"
   ]
  },
  {
   "cell_type": "code",
   "execution_count": null,
   "metadata": {},
   "outputs": [],
   "source": [
    "y_train = y_train.flatten()\n",
    "print(f'y_train: {y_train}')"
   ]
  },
  {
   "cell_type": "markdown",
   "metadata": {
    "slideshow": {
     "slide_type": "subslide"
    }
   },
   "source": [
    "### Training KNN Classification Model"
   ]
  },
  {
   "cell_type": "code",
   "execution_count": null,
   "metadata": {},
   "outputs": [],
   "source": [
    "from sklearn.neighbors import KNeighborsClassifier\n",
    "\n",
    "K = 3\n",
    "model = KNeighborsClassifier(n_neighbors=K)\n",
    "model.fit(X_train, y_train)"
   ]
  },
  {
   "cell_type": "markdown",
   "metadata": {
    "slideshow": {
     "slide_type": "subslide"
    }
   },
   "source": [
    "### Prediksi Jenis Kelamin"
   ]
  },
  {
   "cell_type": "code",
   "execution_count": null,
   "metadata": {},
   "outputs": [],
   "source": [
    "tinggi_badan = 155\n",
    "berat_badan = 70\n",
    "X_new = np.array([tinggi_badan, berat_badan]).reshape(1, -1)\n",
    "X_new"
   ]
  },
  {
   "cell_type": "code",
   "execution_count": null,
   "metadata": {},
   "outputs": [],
   "source": [
    "y_new = model.predict(X_new)\n",
    "y_new"
   ]
  },
  {
   "cell_type": "code",
   "execution_count": null,
   "metadata": {},
   "outputs": [],
   "source": [
    "lb.inverse_transform(y_new)"
   ]
  },
  {
   "cell_type": "markdown",
   "metadata": {
    "slideshow": {
     "slide_type": "subslide"
    }
   },
   "source": [
    "### Visualisasi Nearest Neighbours"
   ]
  },
  {
   "cell_type": "code",
   "execution_count": null,
   "metadata": {},
   "outputs": [],
   "source": [
    "fig, ax = plt.subplots()\n",
    "for jk, d in sensus_df.groupby('jk'):\n",
    "    ax.scatter(d['tinggi'], d['berat'], label=jk)\n",
    "\n",
    "plt.scatter(tinggi_badan,\n",
    "            berat_badan,\n",
    "            marker='s',\n",
    "            color='red',\n",
    "            label='misterius')\n",
    "\n",
    "plt.legend(loc='upper left')\n",
    "plt.title('Sebaran Data Tinggi Badan, Berat Badan, dan Jenis Kelamin')\n",
    "plt.xlabel('Tinggi Badan (cm)')\n",
    "plt.ylabel('Berat Badan (kg)')\n",
    "plt.grid(True)\n",
    "plt.show()"
   ]
  },
  {
   "cell_type": "markdown",
   "metadata": {
    "slideshow": {
     "slide_type": "subslide"
    }
   },
   "source": [
    "### Kalkulasi Distance (Euclidean Distance)\n",
    "\n",
    "\n",
    "$distance = \\sqrt{ (t_1 - t_2)^2 + (b_1 - b_2)^2 }$\n",
    "\n",
    "Referensi: [https://en.wikipedia.org/wiki/Euclidean_distance](https://en.wikipedia.org/wiki/Euclidean_distance)"
   ]
  },
  {
   "cell_type": "code",
   "execution_count": null,
   "metadata": {},
   "outputs": [],
   "source": [
    "misterius = np.array([tinggi_badan, berat_badan])\n",
    "misterius"
   ]
  },
  {
   "cell_type": "code",
   "execution_count": null,
   "metadata": {},
   "outputs": [],
   "source": [
    "X_train"
   ]
  },
  {
   "cell_type": "code",
   "execution_count": null,
   "metadata": {},
   "outputs": [],
   "source": [
    "from scipy.spatial.distance import euclidean\n",
    "\n",
    "data_jarak = [euclidean(misterius, d) for d in X_train]\n",
    "data_jarak"
   ]
  },
  {
   "cell_type": "code",
   "execution_count": null,
   "metadata": {},
   "outputs": [],
   "source": [
    "sensus_df['jarak'] = data_jarak\n",
    "sensus_df.sort_values(['jarak'])"
   ]
  },
  {
   "cell_type": "markdown",
   "metadata": {
    "slideshow": {
     "slide_type": "subslide"
    }
   },
   "source": [
    "### Evaluasi KNN Classification Model"
   ]
  },
  {
   "cell_type": "markdown",
   "metadata": {},
   "source": [
    "#### Testing Set"
   ]
  },
  {
   "cell_type": "code",
   "execution_count": null,
   "metadata": {},
   "outputs": [],
   "source": [
    "X_test = np.array([[168, 65], [180, 96], [160, 52], [169, 67]])\n",
    "y_test = lb.transform(np.array(['pria', 'pria', 'wanita', 'wanita'])).flatten()\n",
    "\n",
    "print(f'X_test:\\n{X_test}\\n')\n",
    "print(f'y_test:\\n{y_test}')"
   ]
  },
  {
   "cell_type": "markdown",
   "metadata": {},
   "source": [
    "#### Prediksi terhadap testing set"
   ]
  },
  {
   "cell_type": "code",
   "execution_count": null,
   "metadata": {},
   "outputs": [],
   "source": [
    "y_pred = model.predict(X_test)\n",
    "y_pred"
   ]
  },
  {
   "cell_type": "markdown",
   "metadata": {
    "slideshow": {
     "slide_type": "subslide"
    }
   },
   "source": [
    "#### Accuracy\n",
    "\n",
    "Accuracy is the proportion of test instances that were classified correctly.\n",
    "\n",
    "$accuracy = \\frac{tp\\ +\\ tn}{tp\\ +\\ tn\\ +\\ fp\\ +\\ fn}$\n",
    "\n",
    "Referensi: [https://en.wikipedia.org/wiki/Precision_and_recall](https://en.wikipedia.org/wiki/Precision_and_recall)"
   ]
  },
  {
   "cell_type": "code",
   "execution_count": null,
   "metadata": {},
   "outputs": [],
   "source": [
    "from sklearn.metrics import accuracy_score\n",
    "\n",
    "acc = accuracy_score(y_test, y_pred)\n",
    "\n",
    "print(f'Accuracy: {acc}')"
   ]
  },
  {
   "cell_type": "markdown",
   "metadata": {
    "slideshow": {
     "slide_type": "subslide"
    }
   },
   "source": [
    "#### Precission \n",
    "\n",
    "Precision is the proportion of test instances that were predicted to be positive that are truly positive. \n",
    "\n",
    "$precission = \\frac{tp}{tp\\ +\\ fp}$\n",
    "\n",
    "Referensi: [https://en.wikipedia.org/wiki/Precision_and_recall](https://en.wikipedia.org/wiki/Precision_and_recall)"
   ]
  },
  {
   "cell_type": "code",
   "execution_count": null,
   "metadata": {},
   "outputs": [],
   "source": [
    "from sklearn.metrics import precision_score\n",
    "\n",
    "prec = precision_score(y_test, y_pred)\n",
    "\n",
    "print(f'Precission: {prec}')"
   ]
  },
  {
   "cell_type": "markdown",
   "metadata": {
    "slideshow": {
     "slide_type": "subslide"
    }
   },
   "source": [
    "#### Recall \n",
    "\n",
    "Recall is the proportion of truly positive test instances that were predicted to be positive.\n",
    "\n",
    "$recall = \\frac{tp}{tp\\ + \\ fn}$\n",
    "\n",
    "Referensi: [https://en.wikipedia.org/wiki/Precision_and_recall](https://en.wikipedia.org/wiki/Precision_and_recall)"
   ]
  },
  {
   "cell_type": "code",
   "execution_count": null,
   "metadata": {},
   "outputs": [],
   "source": [
    "from sklearn.metrics import recall_score\n",
    "\n",
    "rec = recall_score(y_test, y_pred)\n",
    "\n",
    "print(f'Recall: {rec}')"
   ]
  },
  {
   "cell_type": "markdown",
   "metadata": {
    "slideshow": {
     "slide_type": "subslide"
    }
   },
   "source": [
    "#### F1 Score \n",
    "\n",
    "The F1 score is the harmonic mean of precision and recall.\n",
    "\n",
    "$F1 = 2 \\times \\frac{precission\\ \\times \\ recall}{precission\\ + \\ recall}$\n",
    "\n",
    "Referensi: [https://en.wikipedia.org/wiki/Precision_and_recall](https://en.wikipedia.org/wiki/Precision_and_recall)"
   ]
  },
  {
   "cell_type": "code",
   "execution_count": null,
   "metadata": {},
   "outputs": [],
   "source": [
    "from sklearn.metrics import f1_score\n",
    "\n",
    "f1 = f1_score(y_test, y_pred)\n",
    "\n",
    "print(f'F1-score: {f1}')"
   ]
  },
  {
   "cell_type": "markdown",
   "metadata": {
    "slideshow": {
     "slide_type": "subslide"
    }
   },
   "source": [
    "#### Classification Report"
   ]
  },
  {
   "cell_type": "code",
   "execution_count": null,
   "metadata": {},
   "outputs": [],
   "source": [
    "from sklearn.metrics import classification_report\n",
    "\n",
    "cls_report = classification_report(y_test, y_pred)\n",
    "\n",
    "print(f'Classification Report:\\n{cls_report}')"
   ]
  },
  {
   "cell_type": "markdown",
   "metadata": {
    "slideshow": {
     "slide_type": "subslide"
    }
   },
   "source": [
    "#### Matthews Correlation Coefficient (MCC)\n",
    "\n",
    "- MCC is an alternative to the F1 score for measuring the performance of binary classifiers. \n",
    "- A perfect classifier's MCC is 1. \n",
    "- A trivial classifier that predicts randomly will score 0, and a perfectly wrong classifier will score -1.\n",
    "\n",
    "$MCC = \\frac{tp\\ \\times\\ tn\\ + fp\\ \\times\\ fn}{ \\sqrt{ (tp\\ +\\ fp)\\ \\times\\ (tp\\ +\\ fn)\\ \\times\\ (tn\\ +\\ fp)\\ \\times\\ (tn\\ +\\ fn)  }  }$\n",
    "\n",
    "Referensi: [https://en.wikipedia.org/wiki/Matthews_correlation_coefficient](https://en.wikipedia.org/wiki/Matthews_correlation_coefficient)"
   ]
  },
  {
   "cell_type": "code",
   "execution_count": null,
   "metadata": {},
   "outputs": [],
   "source": [
    "from sklearn.metrics import matthews_corrcoef\n",
    "\n",
    "mcc = matthews_corrcoef(y_test, y_pred)\n",
    "\n",
    "print(f'MCC: {mcc}')"
   ]
  }
 ],
 "metadata": {
  "celltoolbar": "Slideshow",
  "kernelspec": {
   "display_name": "Python 3",
   "language": "python",
   "name": "python3"
  },
  "language_info": {
   "codemirror_mode": {
    "name": "ipython",
    "version": 3
   },
   "file_extension": ".py",
   "mimetype": "text/x-python",
   "name": "python",
   "nbconvert_exporter": "python",
   "pygments_lexer": "ipython3",
   "version": "3.8.8"
  }
 },
 "nbformat": 4,
 "nbformat_minor": 4
}
